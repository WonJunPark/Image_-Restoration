{
  "nbformat": 4,
  "nbformat_minor": 0,
  "metadata": {
    "accelerator": "GPU",
    "colab": {
      "name": "denoise.ipynb",
      "provenance": [],
      "private_outputs": true,
      "collapsed_sections": [],
      "include_colab_link": true
    },
    "kernelspec": {
      "display_name": "Python 3",
      "name": "python3"
    }
  },
  "cells": [
    {
      "cell_type": "markdown",
      "metadata": {
        "id": "view-in-github",
        "colab_type": "text"
      },
      "source": [
        "<a href=\"https://colab.research.google.com/github/WonJunPark/Image_-Restoration/blob/master/denoise.ipynb\" target=\"_parent\"><img src=\"https://colab.research.google.com/assets/colab-badge.svg\" alt=\"Open In Colab\"/></a>"
      ]
    },
    {
      "cell_type": "code",
      "metadata": {
        "id": "iAve6DCL4JH4"
      },
      "source": [
        "import tensorflow as tf\n",
        "from tensorflow.keras import datasets, layers, models\n",
        "import matplotlib.pyplot as plt\n",
        "from PIL import Image\n",
        "import numpy as np\n",
        "import cv2"
      ],
      "execution_count": null,
      "outputs": []
    },
    {
      "cell_type": "code",
      "metadata": {
        "id": "7SCoSEewiodI"
      },
      "source": [
        "# 2d gaussian filter 생성\n",
        "kernel1d = cv2.getGaussianKernel(5,3)\n",
        "kernel2d = np.outer(kernel1d, kernel1d.transpose())\n",
        "print(kernel2d)"
      ],
      "execution_count": null,
      "outputs": []
    },
    {
      "cell_type": "code",
      "metadata": {
        "id": "lv0w57cqlvxE"
      },
      "source": [
        "# (train_images, train_labels), (test_images, test_labels) = datasets.cifar10.load_data()\n",
        "\n",
        "# train_images_gt = train_images\n",
        "# test_images_gt = test_images\n",
        "\n",
        "# tmp = train_images_gt[0]\n",
        "# print('before : ',tmp[0][0])\n",
        "# tmp = cv2.filter2D(tmp, -1, kernel2d)\n",
        "# tmp = np.asarray(tmp)\n",
        "# print('after : ',tmp[0][0])"
      ],
      "execution_count": null,
      "outputs": []
    },
    {
      "cell_type": "code",
      "metadata": {
        "id": "JWoEqyMuXFF4"
      },
      "source": [
        "(train_images, train_labels), (test_images, test_labels) = datasets.cifar10.load_data()\n",
        "\n",
        "train_images_gt = train_images\n",
        "test_images_gt = test_images\n",
        "\n",
        "# denoising, gaussian filter 적용\n",
        "im = []\n",
        "for i in range(train_images.shape[0]):\n",
        "  tmp_org = train_images[i]\n",
        "  tmp = cv2.filter2D(tmp_org, -1, kernel2d)\n",
        "  tmp = np.asarray(tmp)\n",
        "\n",
        "#augmentation\n",
        "#  tmp_flip_ud = np.flipud(tmp)\n",
        "#  tmp_flip_lr = np.fliplr(tmp)\n",
        "  im.append(np.expand_dims(tmp, axis=0))\n",
        "\n",
        "\n",
        "train_images = np.concatenate(im, axis=0)/255.0\n",
        "train_images_gt = train_images_gt/255.0\n",
        "\n",
        "\n",
        "# denoising, gaussian filter 적용\n",
        "im = []\n",
        "for i in range(test_images.shape[0]):\n",
        "  tmp_org = test_images[i]\n",
        "  tmp = cv2.filter2D(tmp_org, -1, kernel2d)\n",
        "  tmp = np.asarray(tmp)\n",
        "  im.append(np.expand_dims(tmp, axis=0))\n",
        "  \n",
        "test_images = np.concatenate(im, axis=0)\n",
        "test_images = test_images/255.0\n",
        "test_images_gt = test_images_gt/255.0\n",
        "\n",
        "print(train_images.shape, test_images.shape)\n"
      ],
      "execution_count": null,
      "outputs": []
    },
    {
      "cell_type": "markdown",
      "metadata": {
        "id": "7wArwCTJJlUa"
      },
      "source": [
        "### Verify the data\n",
        "\n",
        "To verify that the dataset looks correct, let's plot the first 25 images from the training set and display the class name below each image.\n"
      ]
    },
    {
      "cell_type": "code",
      "metadata": {
        "id": "K3PAELE2eSU9"
      },
      "source": [
        "print(train_images_gt.shape)\n",
        "\n",
        "plt.figure(figsize=(10,10))\n",
        "for i in range(25):\n",
        "    plt.subplot(5,5,i+1)\n",
        "    \n",
        "    plt.imshow(train_images_gt[i], cmap=plt.cm.binary)\n",
        "plt.show()\n",
        "\n",
        "\n",
        "plt.figure(figsize=(10,10))\n",
        "for i in range(25):\n",
        "    plt.subplot(5,5,i+1)\n",
        "    \n",
        "    plt.imshow(train_images[i], cmap=plt.cm.binary)\n",
        "plt.show()"
      ],
      "execution_count": null,
      "outputs": []
    },
    {
      "cell_type": "code",
      "metadata": {
        "id": "L9YmGQBQPrdn"
      },
      "source": [
        "conv1 = tf.keras.layers.Conv2D(64, 3, activation = 'relu', padding = 'same')\n",
        "conv2 = tf.keras.layers.Conv2D(64, 3, activation = 'relu', padding = 'same')\n",
        "conv3 = tf.keras.layers.Conv2D(64, 3, activation = 'relu', padding = 'same')\n",
        "conv4 = tf.keras.layers.Conv2D(64, 3, activation = 'relu', padding = 'same')\n",
        "conv5 = tf.keras.layers.Conv2D(3, 3, padding = 'same')\n",
        "\n",
        "\n",
        "inputs = tf.keras.layers.Input(shape= [32,32,3])\n",
        "\n",
        "tmp = conv1(inputs)\n",
        "tmp = conv2(tmp)\n",
        "tmp = conv3(tmp)\n",
        "tmp = conv4(tmp)\n",
        "tmp = conv5(tmp) + inputs\n",
        "\n",
        "model = tf.keras.Model(inputs = inputs, outputs = tmp)\n"
      ],
      "execution_count": null,
      "outputs": []
    },
    {
      "cell_type": "markdown",
      "metadata": {
        "id": "lvDVFkg-2DPm"
      },
      "source": [
        "Let's display the architecture of our model so far."
      ]
    },
    {
      "cell_type": "code",
      "metadata": {
        "id": "8-C4XBg4UTJy"
      },
      "source": [
        "model.summary()\n",
        "tf.keras.utils.plot_model(model, show_shapes = True)"
      ],
      "execution_count": null,
      "outputs": []
    },
    {
      "cell_type": "markdown",
      "metadata": {
        "id": "P3odqfHP4M67"
      },
      "source": [
        "### Compile and train the model"
      ]
    },
    {
      "cell_type": "code",
      "metadata": {
        "id": "MdDzI75PUXrG"
      },
      "source": [
        "# MSE loss 변경\n",
        "model.compile(optimizer='adam',\n",
        "              loss='mean_squared_error')\n",
        "\n",
        "\n",
        "model.fit(train_images, train_images_gt, epochs=10, \n",
        "                    validation_data=(test_images, test_images_gt))\n"
      ],
      "execution_count": null,
      "outputs": []
    },
    {
      "cell_type": "markdown",
      "metadata": {
        "id": "jKgyC5K_4O0d"
      },
      "source": [
        "### Evaluate the model"
      ]
    },
    {
      "cell_type": "code",
      "metadata": {
        "id": "gtyDF0MKUcM7"
      },
      "source": [
        "prediction = model.predict(test_images)\n",
        "print(prediction.shape)\n",
        "\n",
        "prediction = np.maximum(0, np.minimum(prediction, 1))#guess what?\n",
        "\n",
        "plt.figure(figsize=(10,10))\n",
        "for i in range(8):\n",
        "    plt.subplot(3,3,2*i+1)\n",
        "    #plt.xticks([])\n",
        "    #plt.yticks([])\n",
        "    #plt.grid(False)\n",
        "    plt.imshow(test_images[i], cmap=plt.cm.binary)\n",
        "\n",
        "plt.show()\n"
      ],
      "execution_count": null,
      "outputs": []
    },
    {
      "cell_type": "code",
      "metadata": {
        "id": "0LvwaKhtUdOo"
      },
      "source": [
        "print(test_acc)"
      ],
      "execution_count": null,
      "outputs": []
    },
    {
      "cell_type": "markdown",
      "metadata": {
        "id": "8cfJ8AR03gT5"
      },
      "source": [
        "Our simple CNN has achieved a test accuracy of over 70%. Not bad for a few lines of code! For another CNN style, see an example using the Keras subclassing API and a `tf.GradientTape` [here](https://www.tensorflow.org/tutorials/quickstart/advanced)."
      ]
    },
    {
      "cell_type": "code",
      "metadata": {
        "id": "GUbfQOFURnc_"
      },
      "source": [
        ""
      ],
      "execution_count": null,
      "outputs": []
    }
  ]
}